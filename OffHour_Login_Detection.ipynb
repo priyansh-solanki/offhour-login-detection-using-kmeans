{
 "cells": [
  {
   "cell_type": "code",
   "execution_count": 1,
   "id": "8a93f09e",
   "metadata": {},
   "outputs": [],
   "source": [
    "# required libraries\n",
    "import pandas as pd\n",
    "pd.set_option('display.max_columns', 100)\n",
    "pd.set_option('display.max_rows', 100)\n",
    "import numpy as np\n",
    "from datetime import datetime, timedelta\n",
    "import random\n",
    "from sklearn.preprocessing import StandardScaler\n",
    "from sklearn.cluster import KMeans\n",
    "import matplotlib.pyplot as plt\n",
    "import seaborn as sns\n",
    "from sklearn.metrics import silhouette_score"
   ]
  },
  {
   "cell_type": "code",
   "execution_count": 2,
   "id": "b0efec1d",
   "metadata": {},
   "outputs": [],
   "source": [
    "# generate synthetic dataset usign numpy & random\n",
    "random.seed(42)\n",
    "np.random.seed(42)\n",
    "\n",
    "users = ['Alice', 'Bob', 'Charlie', 'David', 'Eric']\n",
    "days = pd.date_range(start=\"2024-07-01\", periods=30).tolist()\n",
    "data = []\n",
    "\n",
    "for user in users:\n",
    "    for day in days:\n",
    "        # Determine shift type\n",
    "        if user in ['Alice', 'Bob', 'Charlie']:  # Day shift\n",
    "            start_hour = 9\n",
    "            end_hour = 17\n",
    "        else:  # Night shift\n",
    "            start_hour = 22\n",
    "            end_hour = 6  # spans next day\n",
    "\n",
    "        # Generate active hours\n",
    "        active_hours = []\n",
    "        if start_hour < end_hour:\n",
    "            active_hours = list(range(start_hour, end_hour))\n",
    "        else:\n",
    "            active_hours = list(range(start_hour, 24)) + list(range(0, end_hour))\n",
    "\n",
    "        # Generate logs for each hour\n",
    "        for hour in range(24):\n",
    "            if hour in active_hours:\n",
    "                # Normal activity\n",
    "                if hour == active_hours[0]:  # first hour → high activity\n",
    "                    count = np.random.randint(80, 120)\n",
    "                elif hour == active_hours[-1]:  # last hour → low activity\n",
    "                    count = np.random.randint(1, 20)\n",
    "                else:\n",
    "                    count = np.random.randint(20, 80)\n",
    "            else:\n",
    "                count = 0\n",
    "\n",
    "                # Inject 10% off-shift activity randomly (simulate anomaly)\n",
    "                if random.random() < 0.05:\n",
    "                    count = np.random.randint(1, 10)\n",
    "\n",
    "            # Save row\n",
    "            data.append([\n",
    "                user,\n",
    "                day.date(),\n",
    "                hour,\n",
    "                count\n",
    "            ])\n",
    "\n",
    "df_logs = pd.DataFrame(data, columns=['UserName', 'Date', 'Hour', 'Count_of_logs'])"
   ]
  },
  {
   "cell_type": "code",
   "execution_count": 3,
   "id": "9c3907d5",
   "metadata": {},
   "outputs": [
    {
     "data": {
      "text/plain": [
       "(3600, 4)"
      ]
     },
     "execution_count": 3,
     "metadata": {},
     "output_type": "execute_result"
    }
   ],
   "source": [
    "df_logs.shape"
   ]
  },
  {
   "cell_type": "code",
   "execution_count": 4,
   "id": "42c08c93",
   "metadata": {},
   "outputs": [],
   "source": [
    "df_logs.to_csv(\"log_data.csv\")"
   ]
  },
  {
   "cell_type": "code",
   "execution_count": 28,
   "id": "4a3adb19",
   "metadata": {},
   "outputs": [],
   "source": [
    "# convert categorical data\n",
    "df_logs['UserName'] = df_logs['UserName'].map({'Alice':1, 'Bob':2, 'Charlie':3, 'David':4, 'Eric':5})"
   ]
  },
  {
   "cell_type": "code",
   "execution_count": 29,
   "id": "d4c556f1",
   "metadata": {},
   "outputs": [],
   "source": [
    "# find login & logout hours\n",
    "active_logs = df_logs[df_logs['Count_of_logs'] > 0]\n",
    "\n",
    "login_logout_df = active_logs.groupby(['UserName', 'Date']).agg(\n",
    "    LoginHour=('Hour', 'min'),\n",
    "    LogoutHour=('Hour', 'max')\n",
    ").reset_index()\n",
    "df_logs = df_logs.merge(login_logout_df, on=['UserName', 'Date'], how='left')"
   ]
  },
  {
   "cell_type": "code",
   "execution_count": 30,
   "id": "c5a870f7",
   "metadata": {},
   "outputs": [
    {
     "data": {
      "text/html": [
       "<div>\n",
       "<style scoped>\n",
       "    .dataframe tbody tr th:only-of-type {\n",
       "        vertical-align: middle;\n",
       "    }\n",
       "\n",
       "    .dataframe tbody tr th {\n",
       "        vertical-align: top;\n",
       "    }\n",
       "\n",
       "    .dataframe thead th {\n",
       "        text-align: right;\n",
       "    }\n",
       "</style>\n",
       "<table border=\"1\" class=\"dataframe\">\n",
       "  <thead>\n",
       "    <tr style=\"text-align: right;\">\n",
       "      <th></th>\n",
       "      <th>UserName</th>\n",
       "      <th>Date</th>\n",
       "      <th>Hour</th>\n",
       "      <th>Count_of_logs</th>\n",
       "      <th>LoginHour</th>\n",
       "      <th>LogoutHour</th>\n",
       "    </tr>\n",
       "  </thead>\n",
       "  <tbody>\n",
       "    <tr>\n",
       "      <th>2966</th>\n",
       "      <td>5</td>\n",
       "      <td>2024-07-04</td>\n",
       "      <td>14</td>\n",
       "      <td>0</td>\n",
       "      <td>0</td>\n",
       "      <td>23</td>\n",
       "    </tr>\n",
       "    <tr>\n",
       "      <th>33</th>\n",
       "      <td>1</td>\n",
       "      <td>2024-07-02</td>\n",
       "      <td>9</td>\n",
       "      <td>115</td>\n",
       "      <td>3</td>\n",
       "      <td>16</td>\n",
       "    </tr>\n",
       "    <tr>\n",
       "      <th>2063</th>\n",
       "      <td>3</td>\n",
       "      <td>2024-07-26</td>\n",
       "      <td>23</td>\n",
       "      <td>0</td>\n",
       "      <td>9</td>\n",
       "      <td>21</td>\n",
       "    </tr>\n",
       "    <tr>\n",
       "      <th>223</th>\n",
       "      <td>1</td>\n",
       "      <td>2024-07-10</td>\n",
       "      <td>7</td>\n",
       "      <td>0</td>\n",
       "      <td>9</td>\n",
       "      <td>16</td>\n",
       "    </tr>\n",
       "    <tr>\n",
       "      <th>2627</th>\n",
       "      <td>4</td>\n",
       "      <td>2024-07-20</td>\n",
       "      <td>11</td>\n",
       "      <td>0</td>\n",
       "      <td>0</td>\n",
       "      <td>23</td>\n",
       "    </tr>\n",
       "    <tr>\n",
       "      <th>1936</th>\n",
       "      <td>3</td>\n",
       "      <td>2024-07-21</td>\n",
       "      <td>16</td>\n",
       "      <td>4</td>\n",
       "      <td>9</td>\n",
       "      <td>16</td>\n",
       "    </tr>\n",
       "    <tr>\n",
       "      <th>2213</th>\n",
       "      <td>4</td>\n",
       "      <td>2024-07-03</td>\n",
       "      <td>5</td>\n",
       "      <td>10</td>\n",
       "      <td>0</td>\n",
       "      <td>23</td>\n",
       "    </tr>\n",
       "    <tr>\n",
       "      <th>2304</th>\n",
       "      <td>4</td>\n",
       "      <td>2024-07-07</td>\n",
       "      <td>0</td>\n",
       "      <td>24</td>\n",
       "      <td>0</td>\n",
       "      <td>23</td>\n",
       "    </tr>\n",
       "    <tr>\n",
       "      <th>3312</th>\n",
       "      <td>5</td>\n",
       "      <td>2024-07-19</td>\n",
       "      <td>0</td>\n",
       "      <td>46</td>\n",
       "      <td>0</td>\n",
       "      <td>23</td>\n",
       "    </tr>\n",
       "    <tr>\n",
       "      <th>1244</th>\n",
       "      <td>2</td>\n",
       "      <td>2024-07-22</td>\n",
       "      <td>20</td>\n",
       "      <td>0</td>\n",
       "      <td>1</td>\n",
       "      <td>18</td>\n",
       "    </tr>\n",
       "  </tbody>\n",
       "</table>\n",
       "</div>"
      ],
      "text/plain": [
       "      UserName        Date  Hour  Count_of_logs  LoginHour  LogoutHour\n",
       "2966         5  2024-07-04    14              0          0          23\n",
       "33           1  2024-07-02     9            115          3          16\n",
       "2063         3  2024-07-26    23              0          9          21\n",
       "223          1  2024-07-10     7              0          9          16\n",
       "2627         4  2024-07-20    11              0          0          23\n",
       "1936         3  2024-07-21    16              4          9          16\n",
       "2213         4  2024-07-03     5             10          0          23\n",
       "2304         4  2024-07-07     0             24          0          23\n",
       "3312         5  2024-07-19     0             46          0          23\n",
       "1244         2  2024-07-22    20              0          1          18"
      ]
     },
     "execution_count": 30,
     "metadata": {},
     "output_type": "execute_result"
    }
   ],
   "source": [
    "df_logs.sample(10)"
   ]
  },
  {
   "cell_type": "code",
   "execution_count": 31,
   "id": "1d35c022",
   "metadata": {},
   "outputs": [],
   "source": [
    "# scaling\n",
    "df_login_events = df_logs[df_logs['Hour'] == df_logs['LoginHour']].copy()\n",
    "\n",
    "X = df_login_events[['UserName', 'LoginHour']]\n",
    "\n",
    "scaler = StandardScaler()\n",
    "X_scaled = scaler.fit_transform(X)"
   ]
  },
  {
   "cell_type": "code",
   "execution_count": 32,
   "id": "39def6ff",
   "metadata": {},
   "outputs": [],
   "source": [
    "# implementing k-means \n",
    "# using no. of clusters=2 because it gives best accuracy \n",
    "# 2 clusters - one for day shift one for night shift\n",
    "\n",
    "kmeans = KMeans(n_clusters=2, random_state=42)\n",
    "predictions = kmeans.fit_predict(X_scaled)\n",
    "df_login_events['Cluster'] = predictions\n",
    "centroids = kmeans.cluster_centers_"
   ]
  },
  {
   "cell_type": "code",
   "execution_count": 33,
   "id": "775653e9",
   "metadata": {},
   "outputs": [
    {
     "name": "stdout",
     "output_type": "stream",
     "text": [
      "Anomalous Logins Detected:\n",
      "\n",
      "      UserName        Date  Hour  LoginHour  Count_of_logs  Cluster\n",
      "1            1  2024-07-01     1          1              7        0\n",
      "27           1  2024-07-02     3          3              5        0\n",
      "99           1  2024-07-05     3          3              3        0\n",
      "434          1  2024-07-19     2          2              7        0\n",
      "552          1  2024-07-24     0          0              8        0\n",
      "721          2  2024-07-01     1          1              3        0\n",
      "792          2  2024-07-04     0          0              2        1\n",
      "1225         2  2024-07-22     1          1              2        0\n",
      "1275         2  2024-07-24     3          3              5        0\n",
      "1296         2  2024-07-25     0          0              3        1\n",
      "1322         2  2024-07-26     2          2              1        0\n",
      "1491         3  2024-07-03     3          3              4        1\n",
      "1707         3  2024-07-12     3          3              7        1\n",
      "2067         3  2024-07-27     3          3              6        1\n"
     ]
    }
   ],
   "source": [
    "# finding anomalous (off-hour) logins by flagging those data points \n",
    "# which are 10% of the most \"distant\" points\n",
    "\n",
    "# calculate distance of each point from its cluster centroid\n",
    "df_login_events['Distance'] = [\n",
    "    np.linalg.norm(x - centroids[cluster])\n",
    "    for x, cluster in zip(X_scaled, df_login_events['Cluster'])\n",
    "]\n",
    "\n",
    "# mark anomalies using 90th percentile threshold\n",
    "threshold = np.percentile(df_login_events['Distance'], 90)\n",
    "df_login_events['Anomaly'] = df_login_events['Distance'] > threshold\n",
    "\n",
    "# show anomalies\n",
    "anomalies = df_login_events[df_login_events['Anomaly'] == True][\n",
    "    ['UserName', 'Date', 'Hour', 'LoginHour', 'Count_of_logs', 'Cluster']\n",
    "]\n",
    "\n",
    "print(\"Anomalous Logins Detected:\\n\")\n",
    "print(anomalies.sort_values(['UserName', 'Date']))"
   ]
  },
  {
   "cell_type": "code",
   "execution_count": 36,
   "id": "39de0f61",
   "metadata": {},
   "outputs": [
    {
     "data": {
      "image/png": "[encoded data removed]",
      "text/plain": [
       "<Figure size 720x432 with 1 Axes>"
      ]
     },
     "metadata": {
      "needs_background": "light"
     },
     "output_type": "display_data"
    }
   ],
   "source": [
    "# visualize clusters\n",
    "plt.figure(figsize=(10, 6))\n",
    "sns.scatterplot(\n",
    "    data=df_login_events,\n",
    "    x='UserName',\n",
    "    y='LoginHour',\n",
    "    hue='Cluster',\n",
    "    style='Anomaly',\n",
    "    palette='viridis',\n",
    "    s=100\n",
    ")\n",
    "\n",
    "# plot centroids\n",
    "centroids_original = scaler.inverse_transform(centroids)\n",
    "plt.scatter(\n",
    "    centroids_original[:, 0],  # UserName axis\n",
    "    centroids_original[:, 1],  # LoginHour axis\n",
    "    s=200,\n",
    "    c='red',\n",
    "    label='Centroids',\n",
    "    marker='X',\n",
    "    edgecolor='black'\n",
    ")\n",
    "\n",
    "plt.title('Login Clusters with Anomalies Highlighted')\n",
    "plt.xlabel('UserName')\n",
    "plt.ylabel('LoginHour')\n",
    "plt.grid(True)\n",
    "plt.legend()\n",
    "plt.show()\n"
   ]
  },
  {
   "cell_type": "code",
   "execution_count": 37,
   "id": "7385ade7",
   "metadata": {},
   "outputs": [
    {
     "data": {
      "text/plain": [
       "0.6687927364010054"
      ]
     },
     "execution_count": 37,
     "metadata": {},
     "output_type": "execute_result"
    }
   ],
   "source": [
    "silhouette_score(X_scaled, predictions)"
   ]
  },
  {
   "cell_type": "code",
   "execution_count": null,
   "id": "ce32d00f",
   "metadata": {},
   "outputs": [],
   "source": []
  }
 ],
 "metadata": {
  "kernelspec": {
   "display_name": "Python 3 (ipykernel)",
   "language": "python",
   "name": "python3"
  },
  "language_info": {
   "codemirror_mode": {
    "name": "ipython",
    "version": 3
   },
   "file_extension": ".py",
   "mimetype": "text/x-python",
   "name": "python",
   "nbconvert_exporter": "python",
   "pygments_lexer": "ipython3",
   "version": "3.9.12"
  }
 },
 "nbformat": 4,
 "nbformat_minor": 5
}
